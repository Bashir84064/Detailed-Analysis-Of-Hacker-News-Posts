{
 "cells": [
  {
   "cell_type": "markdown",
   "metadata": {},
   "source": [
    "## Detailed Analysis Of Hacker News Posts\n",
    "\n",
    "* This project is all about analyzing the content user share in Hacker news which is a reddit for technology.\n",
    "* The data set is obtained from keggle and it contains 20,000 rows after deleting the posts with no comments and randomly sampling from the remaining rows.\n",
    "* Certain information like id,title ,url ,user who submittedm,the number of comments,number of points and timestamp of creation about posts are present.\n",
    "* We are interested in analyzing two types of posts \n",
    "1. Ask HN (user asks the hacker news community a certain technology related question)\n",
    "2. Show HN (user wants to sow some interesting project/news to hacker news community)"
   ]
  },
  {
   "cell_type": "code",
   "execution_count": null,
   "metadata": {},
   "outputs": [],
   "source": []
  },
  {
   "cell_type": "code",
   "execution_count": 1,
   "metadata": {},
   "outputs": [],
   "source": [
    "# opening the csv file from local directory and storing it as a list of a list in 'hn' and name of columes in 'header'\n",
    "\n",
    "from csv import reader\n",
    "opened_file = open('/home/bashir/Documents/Dataquest/Guided Project: Exploring Hacker News Posts/HN_posts_year_to_Sep_26_2016.csv')\n",
    "read_file = reader(opened_file)\n",
    "data = list(read_file)\n",
    "header = data[0]\n",
    "hn = data[1:]"
   ]
  },
  {
   "cell_type": "code",
   "execution_count": 2,
   "metadata": {},
   "outputs": [
    {
     "name": "stdout",
     "output_type": "stream",
     "text": [
      "The dataset contains the following columns\n",
      "['id', 'title', 'url', 'num_points', 'num_comments', 'author', 'created_at']\n",
      "------------------------------------------------------------------------------------------------------------\n",
      "The first five entries of data \n",
      "['12579008', 'You have two days to comment if you want stem cells to be classified as your own', 'http://www.regulations.gov/document?D=FDA-2015-D-3719-0018', '1', '0', 'altstar', '9/26/2016 3:26']\n",
      "~~~~~~~~~~~~~~~~~~~~~~~~~~~~~~~~~~~~~~~~~~~~~~~~~~~~~~~~~~~~~~~~~~~~~~~~~~~~~~~~~~~~~~~~~~~~~~~~~~\n",
      "['12579005', 'SQLAR  the SQLite Archiver', 'https://www.sqlite.org/sqlar/doc/trunk/README.md', '1', '0', 'blacksqr', '9/26/2016 3:24']\n",
      "~~~~~~~~~~~~~~~~~~~~~~~~~~~~~~~~~~~~~~~~~~~~~~~~~~~~~~~~~~~~~~~~~~~~~~~~~~~~~~~~~~~~~~~~~~~~~~~~~~\n",
      "['12578997', 'What if we just printed a flatscreen television on the side of our boxes?', 'https://medium.com/vanmoof/our-secrets-out-f21c1f03fdc8#.ietxmez43', '1', '0', 'pavel_lishin', '9/26/2016 3:19']\n",
      "~~~~~~~~~~~~~~~~~~~~~~~~~~~~~~~~~~~~~~~~~~~~~~~~~~~~~~~~~~~~~~~~~~~~~~~~~~~~~~~~~~~~~~~~~~~~~~~~~~\n",
      "['12578989', 'algorithmic music', 'http://cacm.acm.org/magazines/2011/7/109891-algorithmic-composition/fulltext', '1', '0', 'poindontcare', '9/26/2016 3:16']\n",
      "~~~~~~~~~~~~~~~~~~~~~~~~~~~~~~~~~~~~~~~~~~~~~~~~~~~~~~~~~~~~~~~~~~~~~~~~~~~~~~~~~~~~~~~~~~~~~~~~~~\n",
      "['12578979', 'How the Data Vault Enables the Next-Gen Data Warehouse and Data Lake', 'https://www.talend.com/blog/2016/05/12/talend-and-Â\\x93the-data-vaultÂ\\x94', '1', '0', 'markgainor1', '9/26/2016 3:14']\n",
      "~~~~~~~~~~~~~~~~~~~~~~~~~~~~~~~~~~~~~~~~~~~~~~~~~~~~~~~~~~~~~~~~~~~~~~~~~~~~~~~~~~~~~~~~~~~~~~~~~~\n"
     ]
    }
   ],
   "source": [
    "# printing out the header\n",
    "print('The dataset contains the following columns')\n",
    "print(header)\n",
    "print('------------------------------------------------------------------------------------------------------------')\n",
    "print('The first five entries of data ')\n",
    "for item in hn[:5]:\n",
    "    print(item)\n",
    "    print('~~~~~~~~~~~~~~~~~~~~~~~~~~~~~~~~~~~~~~~~~~~~~~~~~~~~~~~~~~~~~~~~~~~~~~~~~~~~~~~~~~~~~~~~~~~~~~~~~~')\n",
    "    \n"
   ]
  },
  {
   "cell_type": "code",
   "execution_count": 3,
   "metadata": {},
   "outputs": [
    {
     "name": "stdout",
     "output_type": "stream",
     "text": [
      "Total posts with \"Ask Hn\" handle are : 9139\n",
      "-------------------------------------------------------------\n",
      "Total posts with \"Show Hn\" handle are : 10158\n"
     ]
    }
   ],
   "source": [
    "# filtering data with only Ask HN and Show Hn\n",
    "ask_posts = []\n",
    "show_posts = []\n",
    "other_posts = []\n",
    "\n",
    "for row in hn:\n",
    "    title = row[1]\n",
    "    if title.lower().startswith('ask hn'):\n",
    "        ask_posts.append(row)\n",
    "    elif title.lower().startswith('show hn'):\n",
    "        show_posts.append(row)\n",
    "    else:\n",
    "        other_posts.append(row)\n",
    "        \n",
    "print('Total posts with \"Ask Hn\" handle are :', len(ask_posts))\n",
    "print('-------------------------------------------------------------')\n",
    "print('Total posts with \"Show Hn\" handle are :', len(show_posts))"
   ]
  },
  {
   "cell_type": "code",
   "execution_count": 4,
   "metadata": {},
   "outputs": [
    {
     "name": "stdout",
     "output_type": "stream",
     "text": [
      "#################################################\n",
      "The average number of comments for Ask Hn posts are: 10.393478498741656\n",
      "--------------------------------------------------------------------------\n",
      "THe average number of comments for Show Hn posts are: 4.886099625910612\n"
     ]
    }
   ],
   "source": [
    "# average number of comments for ask_posts\n",
    "\n",
    "total_ask_comments = 0\n",
    "\n",
    "for row in ask_posts:\n",
    "    num_comments = int(row[4])\n",
    "    total_ask_comments += num_comments\n",
    "\n",
    "avg_ask_comments = total_ask_comments / len(ask_posts)\n",
    "\n",
    "# average number of comments for show_posts\n",
    "\n",
    "total_show_comments = 0\n",
    "\n",
    "for row in show_posts:\n",
    "    num_comments = int(row[4])\n",
    "    total_show_comments += num_comments\n",
    "\n",
    "avg_show_comments = total_show_comments / len(show_posts)\n",
    "\n",
    "\n",
    "print('#################################################')\n",
    "\n",
    "print('The average number of comments for Ask Hn posts are:' , avg_ask_comments)\n",
    "\n",
    "print('--------------------------------------------------------------------------')\n",
    "\n",
    "print('THe average number of comments for Show Hn posts are:' , avg_show_comments)\n",
    "\n",
    "\n",
    "    \n",
    "    \n",
    "    "
   ]
  },
  {
   "cell_type": "markdown",
   "metadata": {},
   "source": [
    "## Average Comments Analysis\n",
    "\n",
    "1. Analyzing the average number comments for both **'Ask Hn'** and **'Show Hn'** posts\n",
    "2. On average Ask Hn posts seem to be more popular and receive two times more comments than the  Show Hn posts"
   ]
  },
  {
   "cell_type": "code",
   "execution_count": 5,
   "metadata": {},
   "outputs": [],
   "source": [
    "#analyzing Ask Hn posts\n",
    "# list containing tuple of time of post and comments on that post\n",
    "\n",
    "import datetime as dt\n",
    "result_list = []\n",
    "\n",
    "for row in ask_posts:\n",
    "    created_at = row[6]\n",
    "    num_comments = int(row[4])\n",
    "    result_list.append([created_at,num_comments])"
   ]
  },
  {
   "cell_type": "code",
   "execution_count": 6,
   "metadata": {},
   "outputs": [
    {
     "data": {
      "text/plain": [
       "[['9/26/2016 2:53', 7],\n",
       " ['9/26/2016 1:17', 3],\n",
       " ['9/25/2016 22:57', 0],\n",
       " ['9/25/2016 22:48', 3],\n",
       " ['9/25/2016 21:50', 2],\n",
       " ['9/25/2016 19:30', 1],\n",
       " ['9/25/2016 19:22', 22]]"
      ]
     },
     "execution_count": 6,
     "metadata": {},
     "output_type": "execute_result"
    }
   ],
   "source": [
    "result_list[:7]"
   ]
  },
  {
   "cell_type": "code",
   "execution_count": 7,
   "metadata": {},
   "outputs": [],
   "source": [
    "#analyzing number of posts per hour\n",
    "#analyzing number of comments on posts per hour\n",
    "\n",
    "posts_by_hour = {}\n",
    "comments_by_hour = {}\n",
    "template = '%m/%d/%Y %H:%M'\n",
    "\n",
    "for item in result_list:\n",
    "    date = dt.datetime.strptime(item[0],template)\n",
    "    hour = date.strftime('%H')\n",
    "    if hour not in posts_by_hour:\n",
    "        posts_by_hour[hour] = 1\n",
    "        comments_by_hour[hour] = item[1]\n",
    "    else:\n",
    "        posts_by_hour[hour] += 1\n",
    "        comments_by_hour[hour] += item[1]\n",
    "    \n"
   ]
  },
  {
   "cell_type": "code",
   "execution_count": 8,
   "metadata": {},
   "outputs": [],
   "source": [
    "#avg number of comments for posts by hour\n",
    "avg_by_hour = []\n",
    "\n",
    "for hour in posts_by_hour:\n",
    "    avg = comments_by_hour[hour]/posts_by_hour[hour]\n",
    "    avg_by_hour.append([hour,avg])\n"
   ]
  },
  {
   "cell_type": "code",
   "execution_count": 9,
   "metadata": {},
   "outputs": [
    {
     "data": {
      "text/plain": [
       "[['02', 11.137546468401487],\n",
       " ['01', 7.407801418439717],\n",
       " ['22', 8.804177545691905],\n",
       " ['21', 8.687258687258687],\n",
       " ['19', 7.163043478260869],\n",
       " ['17', 9.449744463373083],\n",
       " ['15', 28.676470588235293],\n",
       " ['14', 9.692007797270955],\n",
       " ['13', 16.31756756756757],\n",
       " ['11', 8.96474358974359],\n",
       " ['10', 10.684397163120567],\n",
       " ['09', 6.653153153153153],\n",
       " ['07', 7.013274336283186],\n",
       " ['03', 7.948339483394834],\n",
       " ['23', 6.696793002915452],\n",
       " ['20', 8.749019607843136],\n",
       " ['16', 7.713298791018998],\n",
       " ['08', 9.190661478599221],\n",
       " ['00', 7.5647840531561465],\n",
       " ['18', 7.94299674267101],\n",
       " ['12', 12.380116959064328],\n",
       " ['04', 9.7119341563786],\n",
       " ['06', 6.782051282051282],\n",
       " ['05', 8.794258373205741]]"
      ]
     },
     "execution_count": 9,
     "metadata": {},
     "output_type": "execute_result"
    }
   ],
   "source": [
    "avg_by_hour"
   ]
  },
  {
   "cell_type": "code",
   "execution_count": 10,
   "metadata": {},
   "outputs": [],
   "source": [
    "#\n",
    "swap_avg_by_hour = []\n",
    "for row in avg_by_hour:\n",
    "    swap_avg_by_hour.append([row[1],row[0]])"
   ]
  },
  {
   "cell_type": "code",
   "execution_count": 11,
   "metadata": {},
   "outputs": [
    {
     "data": {
      "text/plain": [
       "[[11.137546468401487, '02'],\n",
       " [7.407801418439717, '01'],\n",
       " [8.804177545691905, '22'],\n",
       " [8.687258687258687, '21'],\n",
       " [7.163043478260869, '19'],\n",
       " [9.449744463373083, '17'],\n",
       " [28.676470588235293, '15'],\n",
       " [9.692007797270955, '14'],\n",
       " [16.31756756756757, '13'],\n",
       " [8.96474358974359, '11'],\n",
       " [10.684397163120567, '10'],\n",
       " [6.653153153153153, '09'],\n",
       " [7.013274336283186, '07'],\n",
       " [7.948339483394834, '03'],\n",
       " [6.696793002915452, '23'],\n",
       " [8.749019607843136, '20'],\n",
       " [7.713298791018998, '16'],\n",
       " [9.190661478599221, '08'],\n",
       " [7.5647840531561465, '00'],\n",
       " [7.94299674267101, '18'],\n",
       " [12.380116959064328, '12'],\n",
       " [9.7119341563786, '04'],\n",
       " [6.782051282051282, '06'],\n",
       " [8.794258373205741, '05']]"
      ]
     },
     "execution_count": 11,
     "metadata": {},
     "output_type": "execute_result"
    }
   ],
   "source": [
    "swap_avg_by_hour"
   ]
  },
  {
   "cell_type": "code",
   "execution_count": 12,
   "metadata": {},
   "outputs": [],
   "source": [
    "sorted_swap = sorted(swap_avg_by_hour,reverse = True)"
   ]
  },
  {
   "cell_type": "code",
   "execution_count": 13,
   "metadata": {},
   "outputs": [
    {
     "data": {
      "text/plain": [
       "[[28.676470588235293, '15'],\n",
       " [16.31756756756757, '13'],\n",
       " [12.380116959064328, '12'],\n",
       " [11.137546468401487, '02'],\n",
       " [10.684397163120567, '10'],\n",
       " [9.7119341563786, '04'],\n",
       " [9.692007797270955, '14'],\n",
       " [9.449744463373083, '17'],\n",
       " [9.190661478599221, '08'],\n",
       " [8.96474358974359, '11'],\n",
       " [8.804177545691905, '22'],\n",
       " [8.794258373205741, '05'],\n",
       " [8.749019607843136, '20'],\n",
       " [8.687258687258687, '21'],\n",
       " [7.948339483394834, '03'],\n",
       " [7.94299674267101, '18'],\n",
       " [7.713298791018998, '16'],\n",
       " [7.5647840531561465, '00'],\n",
       " [7.407801418439717, '01'],\n",
       " [7.163043478260869, '19'],\n",
       " [7.013274336283186, '07'],\n",
       " [6.782051282051282, '06'],\n",
       " [6.696793002915452, '23'],\n",
       " [6.653153153153153, '09']]"
      ]
     },
     "execution_count": 13,
     "metadata": {},
     "output_type": "execute_result"
    }
   ],
   "source": [
    "sorted_swap"
   ]
  },
  {
   "cell_type": "code",
   "execution_count": 14,
   "metadata": {},
   "outputs": [
    {
     "name": "stdout",
     "output_type": "stream",
     "text": [
      "Top five hours with most average number of comment with respect to number of posts are :\n",
      "*****************************************************************************************\n",
      "15:00 : 28.68 average comments per post\n",
      "---------------------------------------------------\n",
      "13:00 : 16.32 average comments per post\n",
      "---------------------------------------------------\n",
      "12:00 : 12.38 average comments per post\n",
      "---------------------------------------------------\n",
      "02:00 : 11.14 average comments per post\n",
      "---------------------------------------------------\n",
      "10:00 : 10.68 average comments per post\n",
      "---------------------------------------------------\n"
     ]
    }
   ],
   "source": [
    "print('Top five hours with most average number of comment with respect to number of posts are :')\n",
    "print('*****************************************************************************************')\n",
    "for row in sorted_swap[:5]:\n",
    "    print('{} : {:,.2f} average comments per post'.format(dt.datetime.strptime(row[1],'%H').strftime('%H:%M'),row[0]))\n",
    "    print('---------------------------------------------------')"
   ]
  },
  {
   "cell_type": "code",
   "execution_count": null,
   "metadata": {},
   "outputs": [],
   "source": []
  }
 ],
 "metadata": {
  "kernelspec": {
   "display_name": "Python 3",
   "language": "python",
   "name": "python3"
  },
  "language_info": {
   "codemirror_mode": {
    "name": "ipython",
    "version": 3
   },
   "file_extension": ".py",
   "mimetype": "text/x-python",
   "name": "python",
   "nbconvert_exporter": "python",
   "pygments_lexer": "ipython3",
   "version": "3.7.0"
  }
 },
 "nbformat": 4,
 "nbformat_minor": 2
}
